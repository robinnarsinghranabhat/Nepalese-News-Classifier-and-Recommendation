{
 "cells": [
  {
   "cell_type": "markdown",
   "metadata": {},
   "source": [
    "# Check accuracy of several classifiers"
   ]
  },
  {
   "cell_type": "code",
   "execution_count": 1,
   "metadata": {
    "collapsed": true
   },
   "outputs": [],
   "source": [
    "\n",
    "import numpy as np\n",
    "import pandas as pd"
   ]
  },
  {
   "cell_type": "code",
   "execution_count": 2,
   "metadata": {
    "collapsed": true
   },
   "outputs": [],
   "source": [
    "#load the news data csv file\n",
    "myNews = pd.read_csv('goodNewsData')"
   ]
  },
  {
   "cell_type": "code",
   "execution_count": 3,
   "metadata": {
    "collapsed": true
   },
   "outputs": [],
   "source": [
    "allDirectories = ['World','National News','Auto','Entertainment','Sports','Education','Bank','Business Interview','Interview','Blog','Literature','Employment','Opinion','Technology','Tourism','Economy']"
   ]
  },
  {
   "cell_type": "code",
   "execution_count": 4,
   "metadata": {},
   "outputs": [
    {
     "data": {
      "text/html": [
       "<div>\n",
       "<style scoped>\n",
       "    .dataframe tbody tr th:only-of-type {\n",
       "        vertical-align: middle;\n",
       "    }\n",
       "\n",
       "    .dataframe tbody tr th {\n",
       "        vertical-align: top;\n",
       "    }\n",
       "\n",
       "    .dataframe thead th {\n",
       "        text-align: right;\n",
       "    }\n",
       "</style>\n",
       "<table border=\"1\" class=\"dataframe\">\n",
       "  <thead>\n",
       "    <tr style=\"text-align: right;\">\n",
       "      <th></th>\n",
       "      <th>labels</th>\n",
       "      <th>name</th>\n",
       "      <th>cleanText</th>\n",
       "      <th>noStopWords</th>\n",
       "    </tr>\n",
       "  </thead>\n",
       "  <tbody>\n",
       "    <tr>\n",
       "      <th>0</th>\n",
       "      <td>1</td>\n",
       "      <td>National News</td>\n",
       "      <td>﻿ २१ मंसिर  चितवन   टेण्डर बिनै बाल उद्यान स...</td>\n",
       "      <td>﻿ २१ मंसिर चितवन टेण्डर बिनै बाल उद्यान सञ्चाल...</td>\n",
       "    </tr>\n",
       "    <tr>\n",
       "      <th>1</th>\n",
       "      <td>1</td>\n",
       "      <td>National News</td>\n",
       "      <td>﻿आश्विन १९  काठमाण्डौं   बढा दशैं व्यस्तता क...</td>\n",
       "      <td>﻿आश्विन १९ काठमाण्डौं बढा दशैं व्यस्तता कमिआए ...</td>\n",
       "    </tr>\n",
       "    <tr>\n",
       "      <th>2</th>\n",
       "      <td>1</td>\n",
       "      <td>National News</td>\n",
       "      <td>﻿संविधानसभा प्रमुख राजनीतिक दल निषेध गर्दै स...</td>\n",
       "      <td>﻿संविधानसभा प्रमुख राजनीतिक दल निषेध संविधानसभ...</td>\n",
       "    </tr>\n",
       "    <tr>\n",
       "      <th>3</th>\n",
       "      <td>0</td>\n",
       "      <td>World</td>\n",
       "      <td>﻿एजेन्सी   चीन र  रूस मिलेर संसारकै सबैभन्दा...</td>\n",
       "      <td>﻿एजेन्सी चीन रूस मिलेर संसारकै सबैभन्दा शक्तिश...</td>\n",
       "    </tr>\n",
       "    <tr>\n",
       "      <th>4</th>\n",
       "      <td>15</td>\n",
       "      <td>Economy</td>\n",
       "      <td>﻿ १ पुस  वीरगन्ज   भारत सरकार पाँच सय र हजार...</td>\n",
       "      <td>﻿ १ पुस वीरगन्ज भारत सरकार सय हजार नोट प्रतिबन...</td>\n",
       "    </tr>\n",
       "  </tbody>\n",
       "</table>\n",
       "</div>"
      ],
      "text/plain": [
       "   labels           name                                          cleanText  \\\n",
       "0       1  National News    ﻿ २१ मंसिर  चितवन   टेण्डर बिनै बाल उद्यान स...   \n",
       "1       1  National News    ﻿आश्विन १९  काठमाण्डौं   बढा दशैं व्यस्तता क...   \n",
       "2       1  National News    ﻿संविधानसभा प्रमुख राजनीतिक दल निषेध गर्दै स...   \n",
       "3       0          World    ﻿एजेन्सी   चीन र  रूस मिलेर संसारकै सबैभन्दा...   \n",
       "4      15        Economy    ﻿ १ पुस  वीरगन्ज   भारत सरकार पाँच सय र हजार...   \n",
       "\n",
       "                                         noStopWords  \n",
       "0  ﻿ २१ मंसिर चितवन टेण्डर बिनै बाल उद्यान सञ्चाल...  \n",
       "1  ﻿आश्विन १९ काठमाण्डौं बढा दशैं व्यस्तता कमिआए ...  \n",
       "2  ﻿संविधानसभा प्रमुख राजनीतिक दल निषेध संविधानसभ...  \n",
       "3  ﻿एजेन्सी चीन रूस मिलेर संसारकै सबैभन्दा शक्तिश...  \n",
       "4  ﻿ १ पुस वीरगन्ज भारत सरकार सय हजार नोट प्रतिबन...  "
      ]
     },
     "execution_count": 4,
     "metadata": {},
     "output_type": "execute_result"
    }
   ],
   "source": [
    "myNews = myNews.drop(columns='Unnamed: 0')\n",
    "myNews.head()"
   ]
  },
  {
   "cell_type": "code",
   "execution_count": 5,
   "metadata": {
    "collapsed": true
   },
   "outputs": [],
   "source": [
    "\n",
    "labeldataset = myNews['labels']\n",
    "labelTrain = labeldataset[0:13000]\n",
    "labelTest = labeldataset[13000:]\n",
    "\n",
    "#remove stopwords\n",
    "import codecs,re\n",
    "#stopwords\n",
    "stopwordsNep = u\"\"\" \"\"\"\n",
    "with codecs.open('stopwordsNepali.txt','r','utf-8') as file:\n",
    "    stopwordsNep += file.read()\n",
    "stopwordsNep = re.sub(r'(\\n)',\" \",stopwordsNep).strip(' ')\n",
    "\n",
    "stopwordsList = set(stopwordsNep.split(' '))"
   ]
  },
  {
   "cell_type": "code",
   "execution_count": 6,
   "metadata": {
    "collapsed": true
   },
   "outputs": [],
   "source": [
    "#create vectors\n",
    "import nltk\n",
    "from sklearn.feature_extraction.text import TfidfVectorizer\n",
    "vectorizer = TfidfVectorizer(max_df= 0.50,min_df= 0.001,\n",
    "            tokenizer= lambda x: x.split(\" \"),decode_error='ignore',\n",
    "            sublinear_tf= True )     \n",
    "\n",
    "vectorMatrixClean = vectorizer.fit_transform(myNews['noStopWords'])\n",
    "vectorMatrixTrainClean = vectorMatrixClean[0:13000]\n",
    "vectorMatrixTestClean = vectorMatrixClean[13000:]"
   ]
  },
  {
   "cell_type": "code",
   "execution_count": 7,
   "metadata": {
    "collapsed": true
   },
   "outputs": [],
   "source": [
    "from sklearn.feature_selection import SelectKBest, chi2\n",
    "from sklearn.pipeline import Pipeline\n",
    "from sklearn import metrics\n",
    "from sklearn.naive_bayes import MultinomialNB,BernoulliNB\n",
    "#from sklearn.svm import SG\n",
    "from sklearn.linear_model import SGDClassifier\n",
    "\n",
    "import multiprocessing as mlt"
   ]
  },
  {
   "cell_type": "code",
   "execution_count": 8,
   "metadata": {},
   "outputs": [
    {
     "data": {
      "text/plain": [
       "MultinomialNB(alpha=0.01, class_prior=None, fit_prior=True)"
      ]
     },
     "execution_count": 8,
     "metadata": {},
     "output_type": "execute_result"
    }
   ],
   "source": [
    "#naieve BAyes\n",
    "clfMB = MultinomialNB(alpha=0.01)\n",
    "clfMB.fit(vectorMatrixTestClean,labelTest)\n",
    "#metrics.confusion_matrix(labelTest,clf1.predict(vectorMatrixTestClean))"
   ]
  },
  {
   "cell_type": "code",
   "execution_count": 122,
   "metadata": {},
   "outputs": [
    {
     "name": "stderr",
     "output_type": "stream",
     "text": [
      "/home/deep_mind/anaconda3/lib/python3.6/site-packages/sklearn/linear_model/stochastic_gradient.py:117: DeprecationWarning: n_iter parameter is deprecated in 0.19 and will be removed in 0.21. Use max_iter and tol instead.\n",
      "  DeprecationWarning)\n"
     ]
    }
   ],
   "source": [
    "#SGD CLASSIFIER \n",
    "#assigning different weights for various classes. I gave more weights to National News and World News\n",
    "weight_dict = {0: 5,1: 15,2: 1,3: 7,4: 8,5: 1,6: 2,\n",
    " 7: 2,8: 2,9: 2,10: 1,11: 3,12: 6,13: 2,14: 4,\n",
    " 15: 7}\n",
    "clfSGD = SGDClassifier(n_jobs=4,n_iter=20,class_weight=None).fit(vectorMatrixTrainClean,labelTrain)"
   ]
  },
  {
   "cell_type": "code",
   "execution_count": 9,
   "metadata": {
    "collapsed": true
   },
   "outputs": [],
   "source": [
    "def giveMetrics(nameCLF,trainedclf,trainData,trainLabel,testData,testLabel):\n",
    "    trainScore = trainedclf.score(trainData,trainLabel)\n",
    "    testScore = trainedclf.score(testData,testLabel)\n",
    "    print('{} has following attributes : '.format(nameCLF))\n",
    "    print('The training Accuracy of {} model is : {} '.format(nameCLF,trainScore))\n",
    "    print('The testing Accuracy of {} model is : {} '.format(nameCLF,testScore))\n",
    "    return trainScore,testScore"
   ]
  },
  {
   "cell_type": "code",
   "execution_count": 10,
   "metadata": {},
   "outputs": [
    {
     "name": "stdout",
     "output_type": "stream",
     "text": [
      "Multinomial Naive Bayes has following attributes : \n",
      "The training Accuracy of Multinomial Naive Bayes model is : 0.7285384615384616 \n",
      "The testing Accuracy of Multinomial Naive Bayes model is : 0.9728739002932552 \n"
     ]
    },
    {
     "data": {
      "text/plain": [
       "(0.72853846153846158, 0.97287390029325516)"
      ]
     },
     "execution_count": 10,
     "metadata": {},
     "output_type": "execute_result"
    }
   ],
   "source": [
    "giveMetrics('Multinomial Naive Bayes',clfMB,vectorMatrixTrainClean,labelTrain,vectorMatrixTestClean,labelTest)"
   ]
  },
  {
   "cell_type": "code",
   "execution_count": 125,
   "metadata": {},
   "outputs": [
    {
     "name": "stdout",
     "output_type": "stream",
     "text": [
      "SGDCLassifier has following attributes : \n",
      "The training Accuracy of SGDCLassifier model is : 0.9372307692307692 \n",
      "The testing Accuracy of SGDCLassifier model is : 0.8291788856304986 \n"
     ]
    },
    {
     "data": {
      "text/plain": [
       "(0.9372307692307692, 0.82917888563049857)"
      ]
     },
     "execution_count": 125,
     "metadata": {},
     "output_type": "execute_result"
    }
   ],
   "source": [
    "giveMetrics('SGDCLassifier',clfSGD,vectorMatrixTrainClean,labelTrain,vectorMatrixTestClean,labelTest)"
   ]
  },
  {
   "cell_type": "code",
   "execution_count": 119,
   "metadata": {},
   "outputs": [
    {
     "name": "stdout",
     "output_type": "stream",
     "text": [
      "Bernoulli CLassifier has following attributes : \n",
      "The training Accuracy of Bernoulli CLassifier model is : 0.6770769230769231 \n",
      "The testing Accuracy of Bernoulli CLassifier model is : 0.6642228739002932 \n"
     ]
    },
    {
     "data": {
      "text/plain": [
       "(0.67707692307692313, 0.66422287390029322)"
      ]
     },
     "execution_count": 119,
     "metadata": {},
     "output_type": "execute_result"
    }
   ],
   "source": [
    "clfBer = BernoulliNB().fit(vectorMatrixTrainClean,labelTrain)\n",
    "giveMetrics('Bernoulli CLassifier',clfBer,vectorMatrixTrainClean,labelTrain,vectorMatrixTestClean,labelTest)"
   ]
  },
  {
   "cell_type": "code",
   "execution_count": 29,
   "metadata": {},
   "outputs": [
    {
     "name": "stdout",
     "output_type": "stream",
     "text": [
      "KNN has following attributes : \n",
      "The training Accuracy of KNN model is : 0.7743076923076923 \n",
      "The testing Accuracy of KNN model is : 0.7793255131964809 \n"
     ]
    },
    {
     "data": {
      "text/plain": [
       "(0.77430769230769225, 0.77932551319648091)"
      ]
     },
     "execution_count": 29,
     "metadata": {},
     "output_type": "execute_result"
    }
   ],
   "source": [
    "from sklearn import neighbors\n",
    "clfKNN = neighbors.KNeighborsClassifier(n_neighbors=30)\n",
    "clfKNN.fit(vectorMatrixTrainClean, labelTrain)\n",
    "giveMetrics('KNN',clfKNN,vectorMatrixTrainClean,labelTrain,vectorMatrixTestClean,labelTest)"
   ]
  },
  {
   "cell_type": "code",
   "execution_count": 14,
   "metadata": {},
   "outputs": [
    {
     "data": {
      "text/plain": [
       "0.79545454545454541"
      ]
     },
     "execution_count": 14,
     "metadata": {},
     "output_type": "execute_result"
    }
   ],
   "source": [
    "#LINEAR SVC\n",
    "from sklearn.svm import LinearSVC\n",
    "\n",
    "clfSVCLIN = LinearSVC().fit(vectorMatrixTrainClean,labelTrain)\n",
    "clfSVCLIN.score(vectorMatrixTestClean,labelTest)"
   ]
  },
  {
   "cell_type": "code",
   "execution_count": 31,
   "metadata": {},
   "outputs": [
    {
     "name": "stdout",
     "output_type": "stream",
     "text": [
      "Multinomial-NB has following attributes : \n",
      "The training Accuracy of Multinomial-NB model is : 0.7305384615384616 \n",
      "The testing Accuracy of Multinomial-NB model is : 0.967741935483871 \n",
      " Bernoulli NB has following attributes : \n",
      "The training Accuracy of  Bernoulli NB model is : 0.7543076923076923 \n",
      "The testing Accuracy of  Bernoulli NB model is : 0.7265395894428153 \n",
      "SGD classifier has following attributes : \n",
      "The training Accuracy of SGD classifier model is : 0.9327692307692308 \n",
      "The testing Accuracy of SGD classifier model is : 0.8299120234604106 \n",
      "K-nearestNeighbor has following attributes : \n",
      "The training Accuracy of K-nearestNeighbor model is : 0.7743076923076923 \n",
      "The testing Accuracy of K-nearestNeighbor model is : 0.7793255131964809 \n",
      "SVC(linear) has following attributes : \n",
      "The training Accuracy of SVC(linear) model is : 0.9907692307692307 \n",
      "The testing Accuracy of SVC(linear) model is : 0.842375366568915 \n"
     ]
    }
   ],
   "source": [
    "clf_names = ['Multinomial-NB',' Bernoulli NB','SGD classifier','K-nearestNeighbor','SVC(linear)']\n",
    "classifiers = [clfMB,clfBer,clfSGD,clfKNN,clfSVCLIN]\n",
    "overallScores = []\n",
    "for clf_names,classifiers in zip(clf_names,classifiers):\n",
    "    overallScores.append(giveMetrics(clf_names,classifiers,vectorMatrixTrainClean,labelTrain,vectorMatrixTestClean,labelTest))\n"
   ]
  },
  {
   "cell_type": "code",
   "execution_count": 33,
   "metadata": {},
   "outputs": [
    {
     "data": {
      "image/png": "[encoded data removed]",
      "text/plain": [
       "<matplotlib.figure.Figure at 0x7f4ffd362eb8>"
      ]
     },
     "metadata": {},
     "output_type": "display_data"
    }
   ],
   "source": [
    "#plot the accuracy of diffenrent classification algorithms\n",
    "\n",
    "%matplotlib inline\n",
    "import matplotlib.pyplot as plt\n",
    "\n",
    "indices = np.arange(5)\n",
    "test_score = np.array([i[1] for i in overallScores]) *100\n",
    "train_score = np.array([i[0] for i in overallScores])*100\n",
    "\n",
    "plt.figure(figsize=(12, 8))\n",
    "plt.title(\"Score\")\n",
    "#plt.yscale('linear')\n",
    "plt.barh(indices, test_score , .2, label=\"testing-score\", color='darkorange')\n",
    "plt.barh(indices + 0.2 , train_score , .2, label=\"training score\",color='c')\n",
    "#plt.barh(indices + .6, test_time, .2, label=\"test time\", color='darkorange')\n",
    "plt.yticks(())\n",
    "plt.legend(loc='best')\n",
    "plt.subplots_adjust(left=.25)\n",
    "plt.subplots_adjust(top=.95)\n",
    "plt.subplots_adjust(bottom=.05)\n",
    "names = ['Multinomial-NB',' Bernoulli NB','SGD classifier','K-nearestNeighbor','SVC(linear)']\n",
    "for i, c in zip(indices, names):\n",
    "    plt.text(-25,i+0.05,c,fontsize = 13)\n",
    "\n",
    "\n",
    "\n",
    "plt.show()"
   ]
  }
 ],
 "metadata": {
  "kernelspec": {
   "display_name": "Python 3",
   "language": "python",
   "name": "python3"
  },
  "language_info": {
   "codemirror_mode": {
    "name": "ipython",
    "version": 3
   },
   "file_extension": ".py",
   "mimetype": "text/x-python",
   "name": "python",
   "nbconvert_exporter": "python",
   "pygments_lexer": "ipython3",
   "version": "3.6.3"
  }
 },
 "nbformat": 4,
 "nbformat_minor": 2
}
